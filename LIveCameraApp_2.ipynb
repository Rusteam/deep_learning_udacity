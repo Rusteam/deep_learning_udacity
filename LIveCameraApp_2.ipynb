{
 "cells": [
  {
   "cell_type": "markdown",
   "metadata": {},
   "source": [
    "# Build a model to recognized digits in SVHN\n",
    "\n",
    "[notebook 1](http://localhost:8888/notebooks/Lectures/DL-Udacity/LiveCameraApp_1.ipynb)\n",
    "\n",
    "27.08.2018"
   ]
  },
  {
   "cell_type": "markdown",
   "metadata": {},
   "source": [
    "##### Read training arrays"
   ]
  },
  {
   "cell_type": "code",
   "execution_count": 1,
   "metadata": {},
   "outputs": [],
   "source": [
    "SAVED_TRAIN_ARRAYS = './svhn_train_arrays.pickle'\n",
    "SAVED_TRAIN_LABELS = './svhn_train_labels.pickle'"
   ]
  },
  {
   "cell_type": "code",
   "execution_count": 2,
   "metadata": {},
   "outputs": [],
   "source": [
    "import pickle"
   ]
  },
  {
   "cell_type": "code",
   "execution_count": 3,
   "metadata": {},
   "outputs": [
    {
     "data": {
      "text/plain": [
       "((33401, 54, 54, 1), (33401, 5))"
      ]
     },
     "execution_count": 3,
     "metadata": {},
     "output_type": "execute_result"
    }
   ],
   "source": [
    "with open(SAVED_TRAIN_ARRAYS, 'rb') as f:\n",
    "    train_arrays = pickle.load(f)\n",
    "    \n",
    "with open(SAVED_TRAIN_LABELS, 'rb') as f:\n",
    "    labels = pickle.load(f)\n",
    "    \n",
    "train_arrays.shape, labels.shape"
   ]
  },
  {
   "cell_type": "markdown",
   "metadata": {},
   "source": [
    "##### Split into train, validation and test "
   ]
  },
  {
   "cell_type": "code",
   "execution_count": 4,
   "metadata": {},
   "outputs": [],
   "source": [
    "import numpy as np"
   ]
  },
  {
   "cell_type": "code",
   "execution_count": 5,
   "metadata": {},
   "outputs": [],
   "source": [
    "permuted = np.random.permutation(range(labels.shape[0]))"
   ]
  },
  {
   "cell_type": "code",
   "execution_count": 6,
   "metadata": {},
   "outputs": [
    {
     "data": {
      "text/plain": [
       "((33401, 54, 54, 1), (33401, 5))"
      ]
     },
     "execution_count": 6,
     "metadata": {},
     "output_type": "execute_result"
    }
   ],
   "source": [
    "train_arrays = train_arrays[permuted]\n",
    "labels = labels[permuted]\n",
    "train_arrays.shape, labels.shape"
   ]
  },
  {
   "cell_type": "code",
   "execution_count": 7,
   "metadata": {},
   "outputs": [],
   "source": [
    "test_start = -3000\n",
    "valid_start = -6000\n",
    "train_dataset,train_labels = train_arrays[:valid_start], labels[:valid_start]\n",
    "valid_dataset,valid_labels = train_arrays[valid_start:test_start], labels[valid_start:test_start]\n",
    "test_dataset,test_labels = train_arrays[test_start:], labels[test_start:]"
   ]
  },
  {
   "cell_type": "code",
   "execution_count": 8,
   "metadata": {},
   "outputs": [],
   "source": [
    "del train_arrays, labels"
   ]
  },
  {
   "cell_type": "markdown",
   "metadata": {},
   "source": [
    "### Build tensorflow model"
   ]
  },
  {
   "cell_type": "code",
   "execution_count": 10,
   "metadata": {},
   "outputs": [
    {
     "name": "stdout",
     "output_type": "stream",
     "text": [
      "Populating the interactive namespace from numpy and matplotlib\n"
     ]
    },
    {
     "name": "stderr",
     "output_type": "stream",
     "text": [
      "/home/akbars/anaconda3/lib/python3.6/site-packages/IPython/core/magics/pylab.py:160: UserWarning: pylab import has clobbered these variables: ['ceil', 'f']\n",
      "`%matplotlib` prevents importing * from pylab and numpy\n",
      "  \"\\n`%matplotlib` prevents importing * from pylab and numpy\"\n"
     ]
    }
   ],
   "source": [
    "import tensorflow as tf\n",
    "from math import ceil\n",
    "\n",
    "%pylab inline"
   ]
  },
  {
   "cell_type": "code",
   "execution_count": 11,
   "metadata": {},
   "outputs": [],
   "source": [
    "def output_size(input_size, filter_size, stride, padding):\n",
    "    ''' get output size from input size '''\n",
    "    if padding == 'VALID':\n",
    "        return int(ceil((input_size - filter_size + 1)/stride))\n",
    "    elif padding == 'SAME':\n",
    "        return int(ceil(input_size / stride))\n",
    "    else:\n",
    "        raise Exception('Invalid padding')"
   ]
  },
  {
   "cell_type": "code",
   "execution_count": 12,
   "metadata": {},
   "outputs": [],
   "source": [
    "input_channels = train_dataset.shape[3]\n",
    "imgSize = train_dataset.shape[1]\n",
    "numLabels = 11\n",
    "maxLen = 5\n",
    "\n",
    "batch_size = 32"
   ]
  },
  {
   "cell_type": "code",
   "execution_count": 26,
   "metadata": {},
   "outputs": [],
   "source": [
    "conv_strides = [1,1,1,1,1,1]\n",
    "conv_filters = [3,3,3,3,3,3]\n",
    "pool_strides = [2,1,1,2,1,1]\n",
    "pool_filters = [2,2,2,2,2,2]\n",
    "channels = [16,64,128,128,128,128]\n"
   ]
  },
  {
   "cell_type": "code",
   "execution_count": 27,
   "metadata": {},
   "outputs": [
    {
     "name": "stdout",
     "output_type": "stream",
     "text": [
      "52 26\n",
      "24 23\n",
      "21 20\n",
      "18 9\n",
      "7 6\n",
      "4 3\n",
      "Dense units are 1152\n"
     ]
    }
   ],
   "source": [
    "for l in range(len(channels)):\n",
    "    if l == 0:\n",
    "        conv_output = output_size(imgSize, conv_filters[l], conv_strides[l], 'VALID')\n",
    "    else:\n",
    "        conv_output = output_size(pool_output, conv_filters[l], conv_strides[l], 'VALID')\n",
    "    pool_output = output_size(conv_output, pool_filters[l], pool_strides[l], 'VALID')\n",
    "    print(conv_output, pool_output)\n",
    "dense_units = int(pool_output * pool_output * channels[-1])\n",
    "print('Dense units are', dense_units)"
   ]
  },
  {
   "cell_type": "code",
   "execution_count": 29,
   "metadata": {},
   "outputs": [],
   "source": [
    "graph = tf.Graph()\n",
    "\n",
    "with graph.as_default():\n",
    "    # define tensors for train, valid and test\n",
    "    tf_train_dataset = tf.placeholder(tf.float32, shape=(batch_size, imgSize, imgSize, input_channels))\n",
    "    tf_train_labels = tf.placeholder(tf.int32, shape=(batch_size, maxLen))\n",
    "    tf_valid_dataset = tf.constant(valid_dataset, dtype=tf.float32)\n",
    "    tf_test_dataset = tf.constant(test_dataset, dtype=tf.float32)\n",
    "    # initialize weights and biases for conv layers\n",
    "    weights = {}\n",
    "    channels_in = input_channels\n",
    "    for c in range(len(channels)):\n",
    "        w_name = 'weights_l' + str(c+1)\n",
    "        b_name = 'biases_l' + str(c+1)\n",
    "        weights[w_name] = tf.Variable(tf.truncated_normal([conv_filters[c],conv_filters[c],channels_in,channels[c]], stddev=0.1))\n",
    "        weights[b_name] = tf.Variable(tf.zeros([channels[c]]))\n",
    "        channels_in = channels[c]\n",
    "    # weights of the fully-connected layers\n",
    "    dense1_weights = tf.Variable(tf.truncated_normal([dense_units, dense_units], stddev=0.1))\n",
    "    dense1_biases = tf.Variable(tf.ones([dense_units]))\n",
    "    # initialize weights and biases for output layers\n",
    "    o1_weights = tf.Variable(tf.truncated_normal([dense_units, numLabels], stddev=0.1))\n",
    "    o1_biases = tf.Variable(tf.ones([numLabels]))\n",
    "    o2_weights = tf.Variable(tf.truncated_normal([dense_units, numLabels], stddev=0.1))\n",
    "    o2_biases = tf.Variable(tf.ones([numLabels]))\n",
    "    o3_weights = tf.Variable(tf.truncated_normal([dense_units, numLabels], stddev=0.1))\n",
    "    o3_biases = tf.Variable(tf.ones([numLabels]))\n",
    "    o4_weights = tf.Variable(tf.truncated_normal([dense_units, numLabels], stddev=0.1))\n",
    "    o4_biases = tf.Variable(tf.ones([numLabels]))\n",
    "    o5_weights = tf.Variable(tf.truncated_normal([dense_units, numLabels], stddev=0.1))\n",
    "    o5_biases = tf.Variable(tf.ones([numLabels]))\n",
    "    # model\n",
    "    def model(data):\n",
    "        # conv layers\n",
    "        for l in range(len(channels)):\n",
    "            w_name = 'weights_l' + str(l + 1)\n",
    "            b_name = 'biases_l' + str(l + 1)\n",
    "            conv = tf.nn.conv2d(data, \n",
    "                                weights[w_name], \n",
    "                                [1,conv_strides[l],conv_strides[l],1],\n",
    "                                'VALID')\n",
    "            hidden = tf.nn.relu(conv) + weights[b_name]\n",
    "            maxpool = tf.nn.max_pool(hidden,\n",
    "                                     [1,pool_filters[l],pool_filters[l],1],\n",
    "                                     [1,pool_strides[l],pool_strides[l],1],\n",
    "                                     'VALID')\n",
    "            data = maxpool\n",
    "        # reshape matrix\n",
    "        shapes = maxpool.get_shape().as_list()\n",
    "        hidden = tf.reshape(maxpool, (shapes[0], shapes[1]*shapes[2]*shapes[3]))\n",
    "        # fully-connected layer outputs\n",
    "        logits1 = tf.matmul(hidden, o1_weights) + o1_biases\n",
    "        logits2 = tf.matmul(hidden, o2_weights) + o2_biases\n",
    "        logits3 = tf.matmul(hidden, o3_weights) + o3_biases\n",
    "        logits4 = tf.matmul(hidden, o4_weights) + o4_biases\n",
    "        logits5 = tf.matmul(hidden, o5_weights) + o5_biases\n",
    "        return tf.stack([logits1, logits2, logits3, logits4, logits5], axis=0)\n",
    "    \n",
    "    # model output\n",
    "    logits = model(tf_train_dataset)\n",
    "    # define a loss function\n",
    "    with tf.name_scope('loss_function') as scope:\n",
    "        loss1 = tf.nn.sparse_softmax_cross_entropy_with_logits(labels=tf_train_labels[:,0], logits=logits[0])\n",
    "        loss2 = tf.nn.sparse_softmax_cross_entropy_with_logits(labels=tf_train_labels[:,1], logits=logits[1])\n",
    "        loss3 = tf.nn.sparse_softmax_cross_entropy_with_logits(labels=tf_train_labels[:,2], logits=logits[2])\n",
    "        loss4 = tf.nn.sparse_softmax_cross_entropy_with_logits(labels=tf_train_labels[:,3], logits=logits[3])\n",
    "        loss5 = tf.nn.sparse_softmax_cross_entropy_with_logits(labels=tf_train_labels[:,4], logits=logits[4])\n",
    "        loss = tf.reduce_mean(loss1) + tf.reduce_mean(loss2) + tf.reduce_mean(loss3) + \\\n",
    "                    tf.reduce_mean(loss4) + tf.reduce_mean(loss5)\n",
    "        tf.summary.scalar('loss_function', loss)\n",
    "        \n",
    "    # optimization\n",
    "    optimizer = tf.train.AdamOptimizer(0.001).minimize(loss)\n",
    "    \n",
    "    # Predictions for the mini training, validation, and test data.\n",
    "    train_prediction = tf.transpose(tf.argmax(logits, axis = 2))\n",
    "    valid_prediction =  tf.transpose(tf.argmax(model(tf_valid_dataset), axis = 2))\n",
    "    test_prediction =  tf.transpose(tf.argmax(model(tf_test_dataset), axis = 2))\n",
    "    # evaluate accuracies\n",
    "    def eval_accuracy(predictions, labels):\n",
    "        return tf.reduce_mean(tf.reduce_min(tf.to_float(tf.equal(tf.to_int32(predictions), labels)), axis = 1))\n",
    "    \n",
    "    train_accuracy = eval_accuracy(train_prediction, tf_train_labels)\n",
    "    valid_accuracy = eval_accuracy(valid_prediction, valid_labels)\n",
    "    test_accuracy = eval_accuracy(test_prediction, test_labels)\n",
    "    \n",
    "    # Create summaries to monitor the accuracy\n",
    "    tf.summary.scalar(\"mini-batch_accuracy\", train_accuracy)\n",
    "    tf.summary.scalar(\"validation_accuracy\", valid_accuracy)\n",
    "        \n",
    "    # Merge all summaries into a single operator\n",
    "    merged_summary_op = tf.summary.merge_all()\n",
    "    \n",
    "    saver = tf.train.Saver(max_to_keep = 2)"
   ]
  },
  {
   "cell_type": "code",
   "execution_count": 37,
   "metadata": {
    "scrolled": true
   },
   "outputs": [
    {
     "name": "stdout",
     "output_type": "stream",
     "text": [
      "Running for 15001 steps:\n",
      "\n",
      "Minibatch loss at step 0: 21.645609\n",
      "Minibatch accuracy: 0.0%\n",
      "Validation accuracy: 1.4%\n",
      "------------------------------\n",
      "Minibatch loss at step 100: 5.591238\n",
      "Minibatch accuracy: 0.0%\n",
      "Validation accuracy: 4.3%\n",
      "------------------------------\n",
      "Minibatch loss at step 200: 4.978278\n",
      "Minibatch accuracy: 9.4%\n",
      "Validation accuracy: 10.5%\n",
      "------------------------------\n",
      "Minibatch loss at step 300: 3.885663\n",
      "Minibatch accuracy: 28.1%\n",
      "Validation accuracy: 23.3%\n",
      "------------------------------\n",
      "Minibatch loss at step 400: 3.654371\n",
      "Minibatch accuracy: 21.9%\n",
      "Validation accuracy: 33.0%\n",
      "------------------------------\n",
      "Minibatch loss at step 500: 3.753618\n",
      "Minibatch accuracy: 25.0%\n",
      "Validation accuracy: 35.5%\n",
      "------------------------------\n",
      "Minibatch loss at step 600: 2.112471\n",
      "Minibatch accuracy: 53.1%\n",
      "Validation accuracy: 43.5%\n",
      "------------------------------\n",
      "Minibatch loss at step 700: 2.499352\n",
      "Minibatch accuracy: 43.8%\n",
      "Validation accuracy: 48.6%\n",
      "------------------------------\n",
      "Minibatch loss at step 800: 2.469442\n",
      "Minibatch accuracy: 46.9%\n",
      "Validation accuracy: 51.8%\n",
      "------------------------------\n",
      "Minibatch loss at step 900: 2.374168\n",
      "Minibatch accuracy: 46.9%\n",
      "Validation accuracy: 54.0%\n",
      "------------------------------\n",
      "Minibatch loss at step 1000: 2.047583\n",
      "Minibatch accuracy: 59.4%\n",
      "Validation accuracy: 56.5%\n",
      "------------------------------\n",
      "Minibatch loss at step 1100: 1.923317\n",
      "Minibatch accuracy: 62.5%\n",
      "Validation accuracy: 59.7%\n",
      "------------------------------\n",
      "Minibatch loss at step 1200: 1.739466\n",
      "Minibatch accuracy: 65.6%\n",
      "Validation accuracy: 60.9%\n",
      "------------------------------\n",
      "Minibatch loss at step 1300: 2.006836\n",
      "Minibatch accuracy: 56.2%\n",
      "Validation accuracy: 59.9%\n",
      "------------------------------\n",
      "Minibatch loss at step 1400: 1.919654\n",
      "Minibatch accuracy: 53.1%\n",
      "Validation accuracy: 61.0%\n",
      "------------------------------\n",
      "Minibatch loss at step 1500: 1.664465\n",
      "Minibatch accuracy: 71.9%\n",
      "Validation accuracy: 62.1%\n",
      "------------------------------\n",
      "Minibatch loss at step 1600: 1.454523\n",
      "Minibatch accuracy: 65.6%\n",
      "Validation accuracy: 60.7%\n",
      "------------------------------\n",
      "Minibatch loss at step 1700: 1.682099\n",
      "Minibatch accuracy: 56.2%\n",
      "Validation accuracy: 64.8%\n",
      "------------------------------\n",
      "Minibatch loss at step 1800: 2.498958\n",
      "Minibatch accuracy: 62.5%\n",
      "Validation accuracy: 63.9%\n",
      "------------------------------\n",
      "Minibatch loss at step 1900: 2.203803\n",
      "Minibatch accuracy: 65.6%\n",
      "Validation accuracy: 63.2%\n",
      "------------------------------\n",
      "Minibatch loss at step 2000: 1.766814\n",
      "Minibatch accuracy: 68.8%\n",
      "Validation accuracy: 63.9%\n",
      "------------------------------\n",
      "Minibatch loss at step 2100: 1.025546\n",
      "Minibatch accuracy: 71.9%\n",
      "Validation accuracy: 64.7%\n",
      "------------------------------\n",
      "Stopping at step 2151 with best validation accuracy 0.6483333110809326\n",
      "Test accuracy: 64.8%\n"
     ]
    }
   ],
   "source": [
    "nTrain = train_labels.shape[0]\n",
    "num_steps = 15001 #nTrain // batch_size + 1\n",
    "print_step = 100\n",
    "print('Running for {} steps:\\n'.format(num_steps))\n",
    "# for plotting\n",
    "steps = []\n",
    "losses = []\n",
    "tr_acc = []\n",
    "val_acc = []\n",
    "# for early stopping\n",
    "best_val_acc = 0\n",
    "streak = 0\n",
    "max_streak = 450\n",
    "\n",
    "with tf.Session(graph=graph) as sess:\n",
    "    tf.global_variables_initializer().run()\n",
    "    summary_writer = tf.train.SummarySaverHook(save_steps=200, output_dir='.', summary_op=saver)\n",
    "    \n",
    "    for step in range(num_steps):\n",
    "        offset = (step * batch_size) % (nTrain - batch_size)\n",
    "        batch_data = train_dataset[offset:(offset+batch_size)]\n",
    "        batch_labels = train_labels[offset:(offset+batch_size)]\n",
    "        feed_dict = {tf_train_dataset:batch_data, tf_train_labels:batch_labels}\n",
    "        \n",
    "        if (step % 200 ==0):\n",
    "            _, l, train_acc, summary_str = sess.run([optimizer, loss, train_accuracy,\n",
    "                                                     merged_summary_op], \n",
    "                                                    feed_dict=feed_dict)\n",
    "#             summary_writer.add_summary(summary_str, step)\n",
    "        else:\n",
    "            _, l, train_acc = sess.run([optimizer, loss, train_accuracy], feed_dict=feed_dict)\n",
    "        \n",
    "        if (step % print_step == 0):\n",
    "            valid_acc = valid_accuracy.eval()\n",
    "            print('Minibatch loss at step %d: %f' % (step, l))\n",
    "            print('Minibatch accuracy: %.1f%%' % (train_acc*100))\n",
    "            print('Validation accuracy: %.1f%%' % (valid_acc*100))\n",
    "            print('-'*30)\n",
    "            tr_acc.append(train_acc)\n",
    "            val_acc.append(valid_acc)\n",
    "            losses.append(l)\n",
    "            steps.append(step)\n",
    "        # early stopping\n",
    "        if valid_acc > best_val_acc:\n",
    "            best_val_acc = valid_acc\n",
    "            streak = 0\n",
    "        else:\n",
    "            streak += 1\n",
    "            if streak > max_streak:\n",
    "                print('Stopping at step {} with best validation accuracy {}'.format(step, best_val_acc))\n",
    "                break\n",
    "            \n",
    "    print('Test accuracy: %.1f%%' % (test_accuracy.eval()*100))\n",
    "#     save_path = saver.save(sess, \"./CNN_trained_initialModel.ckpt\",global_step=step)\n",
    "#     print(\"Model saved in file: %s\" % save_path)"
   ]
  },
  {
   "cell_type": "code",
   "execution_count": 38,
   "metadata": {},
   "outputs": [
    {
     "data": {
      "image/png": "[encoded data removed]",
      "text/plain": [
       "<Figure size 864x288 with 2 Axes>"
      ]
     },
     "metadata": {},
     "output_type": "display_data"
    }
   ],
   "source": [
    "plt.figure(figsize=(12,4))\n",
    "plt.subplot(121)\n",
    "plt.plot(steps, losses, label='Train loss')\n",
    "plt.axis(ymin=-2,ymax=10)\n",
    "plt.legend(loc='best')\n",
    "plt.subplot(122)\n",
    "plt.plot(steps, tr_acc, 'r--', label='Train accuracy')\n",
    "plt.plot(steps, val_acc, 'g--', label='Validation accuracy')\n",
    "plt.legend(loc='best')\n",
    "plt.show()"
   ]
  },
  {
   "cell_type": "markdown",
   "metadata": {},
   "source": [
    "#### Ian Goodfellow paper:\n",
    "- 8 conv layers + 1 locally connected layer + 2 dense layers\n",
    "- 1st layer maxout activation, then relu\n",
    "- conv units are [48, 64, 128, 160] then 192\n",
    "- each conv layer include max pooling and subtractive normalization\n",
    "- maxpool 2x2 with alternating stride 2 and 1\n",
    "- all conv layers with zero padding\n",
    "- sub.norm operates on 3x3 windows\n",
    "- conv kernels are 5x5\n",
    "- dropout at all layers but input layer"
   ]
  },
  {
   "cell_type": "code",
   "execution_count": null,
   "metadata": {},
   "outputs": [],
   "source": []
  }
 ],
 "metadata": {
  "kernelspec": {
   "display_name": "Python 3",
   "language": "python",
   "name": "python3"
  },
  "language_info": {
   "codemirror_mode": {
    "name": "ipython",
    "version": 3
   },
   "file_extension": ".py",
   "mimetype": "text/x-python",
   "name": "python",
   "nbconvert_exporter": "python",
   "pygments_lexer": "ipython3",
   "version": "3.6.7"
  }
 },
 "nbformat": 4,
 "nbformat_minor": 2
}
