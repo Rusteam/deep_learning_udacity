{
 "cells": [
  {
   "cell_type": "markdown",
   "metadata": {
    "colab_type": "text",
    "id": "kR-4eNdK6lYS"
   },
   "source": [
    "Deep Learning\n",
    "=============\n",
    "\n",
    "Assignment 3\n",
    "------------\n",
    "\n",
    "Previously in `2_fullyconnected.ipynb`, you trained a logistic regression and a neural network model.\n",
    "\n",
    "The goal of this assignment is to explore regularization techniques."
   ]
  },
  {
   "cell_type": "code",
   "execution_count": 1,
   "metadata": {
    "cellView": "both",
    "colab": {
     "autoexec": {
      "startup": false,
      "wait_interval": 0
     }
    },
    "colab_type": "code",
    "id": "JLpLa8Jt7Vu4"
   },
   "outputs": [
    {
     "name": "stderr",
     "output_type": "stream",
     "text": [
      "/home/akbars/anaconda3/lib/python3.6/site-packages/h5py/__init__.py:36: FutureWarning: Conversion of the second argument of issubdtype from `float` to `np.floating` is deprecated. In future, it will be treated as `np.float64 == np.dtype(float).type`.\n",
      "  from ._conv import register_converters as _register_converters\n"
     ]
    },
    {
     "name": "stdout",
     "output_type": "stream",
     "text": [
      "Populating the interactive namespace from numpy and matplotlib\n"
     ]
    }
   ],
   "source": [
    "# These are all the modules we'll be using later. Make sure you can import them\n",
    "# before proceeding further.\n",
    "from __future__ import print_function\n",
    "import numpy as np\n",
    "import tensorflow as tf\n",
    "from six.moves import cPickle as pickle\n",
    "\n",
    "%pylab inline\n",
    "import seaborn as sns"
   ]
  },
  {
   "cell_type": "markdown",
   "metadata": {
    "colab_type": "text",
    "id": "1HrCK6e17WzV"
   },
   "source": [
    "First reload the data we generated in `1_notmnist.ipynb`."
   ]
  },
  {
   "cell_type": "code",
   "execution_count": 2,
   "metadata": {
    "cellView": "both",
    "colab": {
     "autoexec": {
      "startup": false,
      "wait_interval": 0
     },
     "output_extras": [
      {
       "item_id": 1
      }
     ]
    },
    "colab_type": "code",
    "executionInfo": {
     "elapsed": 11777,
     "status": "ok",
     "timestamp": 1449849322348,
     "user": {
      "color": "",
      "displayName": "",
      "isAnonymous": false,
      "isMe": true,
      "permissionId": "",
      "photoUrl": "",
      "sessionId": "0",
      "userId": ""
     },
     "user_tz": 480
    },
    "id": "y3-cj1bpmuxc",
    "outputId": "e03576f1-ebbe-4838-c388-f1777bcc9873"
   },
   "outputs": [
    {
     "name": "stdout",
     "output_type": "stream",
     "text": [
      "Training set (200000, 28, 28) (200000,)\n",
      "Validation set (10000, 28, 28) (10000,)\n",
      "Test set (10000, 28, 28) (10000,)\n"
     ]
    }
   ],
   "source": [
    "pickle_file = 'notMNIST.pickle'\n",
    "\n",
    "with open(pickle_file, 'rb') as f:\n",
    "    save = pickle.load(f)\n",
    "    train_dataset = save['train_dataset']\n",
    "    train_labels = save['train_labels']\n",
    "    valid_dataset = save['valid_dataset']\n",
    "    valid_labels = save['valid_labels']\n",
    "    test_dataset = save['test_dataset']\n",
    "    test_labels = save['test_labels']\n",
    "    del save  # hint to help gc free up memory\n",
    "    print('Training set', train_dataset.shape, train_labels.shape)\n",
    "    print('Validation set', valid_dataset.shape, valid_labels.shape)\n",
    "    print('Test set', test_dataset.shape, test_labels.shape)"
   ]
  },
  {
   "cell_type": "markdown",
   "metadata": {
    "colab_type": "text",
    "id": "L7aHrm6nGDMB"
   },
   "source": [
    "Reformat into a shape that's more adapted to the models we're going to train:\n",
    "- data as a flat matrix,\n",
    "- labels as float 1-hot encodings."
   ]
  },
  {
   "cell_type": "code",
   "execution_count": 3,
   "metadata": {
    "cellView": "both",
    "colab": {
     "autoexec": {
      "startup": false,
      "wait_interval": 0
     },
     "output_extras": [
      {
       "item_id": 1
      }
     ]
    },
    "colab_type": "code",
    "executionInfo": {
     "elapsed": 11728,
     "status": "ok",
     "timestamp": 1449849322356,
     "user": {
      "color": "",
      "displayName": "",
      "isAnonymous": false,
      "isMe": true,
      "permissionId": "",
      "photoUrl": "",
      "sessionId": "0",
      "userId": ""
     },
     "user_tz": 480
    },
    "id": "IRSyYiIIGIzS",
    "outputId": "3f8996ee-3574-4f44-c953-5c8a04636582"
   },
   "outputs": [
    {
     "name": "stdout",
     "output_type": "stream",
     "text": [
      "Training set (200000, 784) (200000, 10)\n",
      "Validation set (10000, 784) (10000, 10)\n",
      "Test set (10000, 784) (10000, 10)\n"
     ]
    }
   ],
   "source": [
    "image_size = 28\n",
    "num_labels = 10\n",
    "\n",
    "def reformat(dataset, labels):\n",
    "    dataset = dataset.reshape((-1, image_size * image_size)).astype(np.float32)\n",
    "    # Map 1 to [0.0, 1.0, 0.0 ...], 2 to [0.0, 0.0, 1.0 ...]\n",
    "    labels = (np.arange(num_labels) == labels[:,None]).astype(np.float32)\n",
    "    return dataset, labels\n",
    "train_dataset, train_labels = reformat(train_dataset, train_labels)\n",
    "valid_dataset, valid_labels = reformat(valid_dataset, valid_labels)\n",
    "test_dataset, test_labels = reformat(test_dataset, test_labels)\n",
    "print('Training set', train_dataset.shape, train_labels.shape)\n",
    "print('Validation set', valid_dataset.shape, valid_labels.shape)\n",
    "print('Test set', test_dataset.shape, test_labels.shape)"
   ]
  },
  {
   "cell_type": "code",
   "execution_count": 4,
   "metadata": {
    "cellView": "both",
    "colab": {
     "autoexec": {
      "startup": false,
      "wait_interval": 0
     }
    },
    "colab_type": "code",
    "id": "RajPLaL_ZW6w"
   },
   "outputs": [],
   "source": [
    "def accuracy(predictions, labels):\n",
    "    return (100.0 * np.sum(np.argmax(predictions, 1) == np.argmax(labels, 1))\n",
    "          / predictions.shape[0])"
   ]
  },
  {
   "cell_type": "markdown",
   "metadata": {
    "colab_type": "text",
    "id": "sgLbUAQ1CW-1"
   },
   "source": [
    "---\n",
    "Problem 1\n",
    "---------\n",
    "\n",
    "Introduce and tune L2 regularization for both logistic and neural network models. Remember that L2 amounts to adding a penalty on the norm of the weights to the loss. In TensorFlow, you can compute the L2 loss for a tensor `t` using `nn.l2_loss(t)`. The right amount of regularization should improve your validation / test accuracy.\n",
    "\n",
    "---"
   ]
  },
  {
   "cell_type": "code",
   "execution_count": 5,
   "metadata": {},
   "outputs": [
    {
     "name": "stdout",
     "output_type": "stream",
     "text": [
      "WARNING:tensorflow:From <ipython-input-5-8eaf671a4287>:25: softmax_cross_entropy_with_logits (from tensorflow.python.ops.nn_ops) is deprecated and will be removed in a future version.\n",
      "Instructions for updating:\n",
      "\n",
      "Future major versions of TensorFlow will allow gradients to flow\n",
      "into the labels input on backprop by default.\n",
      "\n",
      "See @{tf.nn.softmax_cross_entropy_with_logits_v2}.\n",
      "\n"
     ]
    }
   ],
   "source": [
    "BATCH_SIZE = 64\n",
    "L1_UNITS = 512\n",
    "\n",
    "graph = tf.Graph()\n",
    "\n",
    "with graph.as_default():\n",
    "    tf_valid_dataset = tf.constant(valid_dataset)\n",
    "    tf_test_dataset = tf.constant(test_dataset)\n",
    "    X_train = tf.placeholder(np.float32, shape=(BATCH_SIZE, image_size**2))\n",
    "    y_train = tf.placeholder(np.float32, shape=(BATCH_SIZE, num_labels))\n",
    "    \n",
    "    weights_l1 = tf.Variable(tf.truncated_normal((image_size**2, L1_UNITS), seed=120))\n",
    "    bias_l1 = tf.Variable(tf.zeros((L1_UNITS)))\n",
    "    \n",
    "    weights_l2 = tf.Variable(tf.truncated_normal((L1_UNITS, num_labels), seed=101))\n",
    "    bias_l2 = tf.Variable(tf.zeros((num_labels)))\n",
    "    \n",
    "    hidden_l1 = tf.matmul(X_train, weights_l1) + bias_l1\n",
    "    activation_l1 = tf.nn.relu(hidden_l1)\n",
    "    \n",
    "    hidden_l2 = tf.matmul(activation_l1, weights_l2) + bias_l2\n",
    "    activation_l2 = tf.nn.softmax(hidden_l2)\n",
    "    \n",
    "    trainable_parameters = tf.trainable_variables()\n",
    "    loss = tf.reduce_mean(tf.nn.softmax_cross_entropy_with_logits(labels=y_train, logits=activation_l2)) + \\\n",
    "                          0.01 * tf.add_n([tf.nn.l2_loss(par) for par in trainable_parameters])\n",
    "    \n",
    "    optimizer = tf.train.AdamOptimizer(0.001).minimize(loss)\n",
    "    \n",
    "    train_prediction = activation_l2\n",
    "    valid_prediction = tf.nn.softmax(tf.matmul(tf.nn.relu(tf.matmul(tf_valid_dataset, weights_l1) + bias_l1), weights_l2) + bias_l2)\n",
    "    test_prediction = tf.nn.softmax(tf.matmul(tf.nn.relu(tf.matmul(tf_test_dataset, weights_l1) + bias_l1), weights_l2) + bias_l2)"
   ]
  },
  {
   "cell_type": "code",
   "execution_count": 6,
   "metadata": {
    "scrolled": true
   },
   "outputs": [
    {
     "name": "stdout",
     "output_type": "stream",
     "text": [
      "Minibatch loss at step 0: 1580.508057\n",
      "Minibatch loss at step 40: 1468.150269\n",
      "Minibatch loss at step 80: 1363.211670\n",
      "Minibatch loss at step 120: 1265.997070\n",
      "Minibatch loss at step 160: 1175.772827\n",
      "Minibatch loss at step 200: 1091.974854\n",
      "Minibatch loss at step 240: 1014.030334\n",
      "Minibatch loss at step 280: 941.636414\n",
      "Minibatch loss at step 320: 874.268677\n",
      "Minibatch loss at step 360: 811.568787\n",
      "Minibatch loss at step 400: 753.326538\n",
      "Minibatch loss at step 440: 698.932678\n",
      "Minibatch loss at step 480: 648.245239\n",
      "Minibatch loss at step 520: 601.184631\n",
      "Minibatch loss at step 560: 557.222107\n",
      "Minibatch loss at step 600: 516.422485\n",
      "Minibatch loss at step 640: 478.327301\n",
      "Minibatch loss at step 680: 442.916901\n",
      "Minibatch loss at step 720: 409.973694\n",
      "Minibatch loss at step 760: 379.322296\n",
      "Minibatch loss at step 800: 350.774902\n",
      "Minibatch loss at step 840: 324.188629\n",
      "Minibatch loss at step 880: 299.473785\n",
      "Minibatch loss at step 920: 276.628571\n",
      "Minibatch loss at step 960: 255.095032\n",
      "Minibatch loss at step 1000: 235.292496\n",
      "Minibatch loss at step 1040: 216.856934\n",
      "Minibatch loss at step 1080: 199.884933\n",
      "Minibatch loss at step 1120: 183.904144\n",
      "Minibatch loss at step 1160: 169.229935\n",
      "Minibatch loss at step 1200: 155.516708\n",
      "Minibatch loss at step 1240: 142.855499\n",
      "Minibatch loss at step 1280: 131.214859\n",
      "Minibatch loss at step 1320: 120.332443\n",
      "Minibatch loss at step 1360: 110.304207\n",
      "Minibatch loss at step 1400: 101.036484\n",
      "Minibatch loss at step 1440: 92.459549\n",
      "Minibatch loss at step 1480: 84.763603\n",
      "Minibatch loss at step 1520: 77.464836\n",
      "Minibatch loss at step 1560: 70.646774\n",
      "Minibatch loss at step 1600: 64.504349\n",
      "Minibatch loss at step 1640: 58.878059\n",
      "Minibatch loss at step 1680: 53.543125\n",
      "Minibatch loss at step 1720: 48.764473\n",
      "Minibatch loss at step 1760: 44.312080\n",
      "Minibatch loss at step 1800: 40.274208\n",
      "Minibatch loss at step 1840: 36.621307\n",
      "Minibatch loss at step 1880: 33.194653\n",
      "Minibatch loss at step 1920: 30.169703\n",
      "Minibatch loss at step 1960: 27.389875\n",
      "Minibatch loss at step 2000: 24.838852\n",
      "Minibatch loss at step 2040: 22.354706\n",
      "Minibatch loss at step 2080: 20.285725\n",
      "Minibatch loss at step 2120: 18.344393\n",
      "Minibatch loss at step 2160: 16.647978\n",
      "Minibatch loss at step 2200: 15.012914\n",
      "Minibatch loss at step 2240: 13.496143\n",
      "Minibatch loss at step 2280: 12.289975\n",
      "Minibatch loss at step 2320: 11.084125\n",
      "Minibatch loss at step 2360: 10.126682\n",
      "Minibatch loss at step 2400: 9.195469\n",
      "Minibatch loss at step 2440: 8.291377\n",
      "Minibatch loss at step 2480: 7.475156\n",
      "Minibatch loss at step 2520: 6.892320\n",
      "Minibatch loss at step 2560: 6.297461\n",
      "Minibatch loss at step 2600: 5.735740\n",
      "Minibatch loss at step 2640: 5.220717\n",
      "Minibatch loss at step 2680: 4.765533\n",
      "Minibatch loss at step 2720: 4.401630\n",
      "Minibatch loss at step 2760: 4.047656\n",
      "Minibatch loss at step 2800: 3.866679\n",
      "Minibatch loss at step 2840: 3.488219\n",
      "Minibatch loss at step 2880: 3.272558\n",
      "Minibatch loss at step 2920: 3.125352\n",
      "Minibatch loss at step 2960: 2.990177\n",
      "Minibatch loss at step 3000: 2.882510\n",
      "Minibatch loss at step 3040: 2.654203\n",
      "Minibatch loss at step 3080: 2.576695\n",
      "Minibatch loss at step 3120: 2.428250\n",
      "Minibatch loss at step 3160: 2.378994\n",
      "Minibatch loss at step 3200: 2.333065\n",
      "Minibatch loss at step 3240: 2.217255\n",
      "Minibatch loss at step 3280: 2.297667\n",
      "Minibatch loss at step 3320: 2.101023\n",
      "Minibatch loss at step 3360: 2.086784\n",
      "Minibatch loss at step 3400: 2.034392\n",
      "Minibatch loss at step 3440: 1.987284\n",
      "Minibatch loss at step 3480: 2.023928\n",
      "Minibatch loss at step 3520: 1.991145\n",
      "Minibatch loss at step 3560: 1.974527\n",
      "Minibatch loss at step 3600: 1.976622\n",
      "Minibatch loss at step 3640: 1.840962\n",
      "Minibatch loss at step 3680: 1.834225\n",
      "Minibatch loss at step 3720: 1.862138\n",
      "Minibatch loss at step 3760: 1.843253\n",
      "Minibatch loss at step 3800: 1.939353\n",
      "Minibatch loss at step 3840: 1.905006\n",
      "Minibatch loss at step 3880: 1.853025\n",
      "Minibatch loss at step 3920: 1.894954\n",
      "Minibatch loss at step 3960: 1.826313\n",
      "Minibatch loss at step 4000: 1.936433\n",
      "Test accuracy: 79.2%\n"
     ]
    }
   ],
   "source": [
    "num_steps = 4001\n",
    "\n",
    "train_loss = list()\n",
    "valid_acc = list()\n",
    "train_acc = list()\n",
    "\n",
    "with tf.Session(graph=graph) as sess:\n",
    "    tf.global_variables_initializer().run()\n",
    "    for step in range(num_steps):\n",
    "        offset = (step * BATCH_SIZE) % (train_labels.shape[0] - BATCH_SIZE)\n",
    "        batch_data = train_dataset[offset:(offset + BATCH_SIZE), :]\n",
    "        batch_labels = train_labels[offset:(offset + BATCH_SIZE), :]\n",
    "        \n",
    "        feed_dict = {X_train: batch_data, y_train: batch_labels}\n",
    "        _,l,pred = sess.run([optimizer, loss, train_prediction], feed_dict=feed_dict)\n",
    "        \n",
    "        if (step % (num_steps//100) == 0):\n",
    "            print(\"Minibatch loss at step %d: %f\" % (step, l))\n",
    "            train_loss.append(l)\n",
    "            valid_acc.append(accuracy(valid_prediction.eval(), valid_labels))\n",
    "            train_acc.append(accuracy(pred, batch_labels))\n",
    "            \n",
    "    print(\"Test accuracy: %.1f%%\" % accuracy(test_prediction.eval(), test_labels))"
   ]
  },
  {
   "cell_type": "code",
   "execution_count": 7,
   "metadata": {},
   "outputs": [],
   "source": [
    "def performance_chart(train_loss, train_accuracy, valid_accuracy):\n",
    "    n = range(len(train_loss))\n",
    "    plt.figure(figsize=(15,4))\n",
    "    plt.subplot(121)\n",
    "    plt.plot(n, train_loss, 'b--', label='train loss')\n",
    "#     plt.plot(history.epoch, history.history['val_loss'], 'r--', label='valid loss')\n",
    "    plt.legend()\n",
    "    plt.subplot(122)\n",
    "    plt.plot(n, train_accuracy, 'b--', label='train accuracy')\n",
    "    plt.plot(n, valid_accuracy, 'r--', label='valid accuracy')\n",
    "    plt.legend()\n",
    "    plt.tight_layout()\n",
    "    plt.show()"
   ]
  },
  {
   "cell_type": "code",
   "execution_count": 8,
   "metadata": {},
   "outputs": [
    {
     "data": {
      "image/png": "[encoded data removed]",
      "text/plain": [
       "<Figure size 1080x288 with 2 Axes>"
      ]
     },
     "metadata": {},
     "output_type": "display_data"
    }
   ],
   "source": [
    "performance_chart(train_loss, train_acc, valid_acc)"
   ]
  },
  {
   "cell_type": "markdown",
   "metadata": {
    "colab_type": "text",
    "id": "na8xX2yHZzNF"
   },
   "source": [
    "---\n",
    "Problem 2\n",
    "---------\n",
    "Let's demonstrate an extreme case of overfitting. Restrict your training data to just a few batches. What happens?\n",
    "\n",
    "---"
   ]
  },
  {
   "cell_type": "code",
   "execution_count": 9,
   "metadata": {},
   "outputs": [
    {
     "data": {
      "text/plain": [
       "((1000, 784), (1000, 10))"
      ]
     },
     "execution_count": 9,
     "metadata": {},
     "output_type": "execute_result"
    }
   ],
   "source": [
    "small_size = 1000\n",
    "indices = np.random.randint(low=0, high=train_dataset.shape[0], size=small_size)\n",
    "small_train = train_dataset[indices,:]\n",
    "small_labels = train_labels[indices,:]\n",
    "\n",
    "small_train.shape,small_labels.shape"
   ]
  },
  {
   "cell_type": "code",
   "execution_count": 10,
   "metadata": {},
   "outputs": [],
   "source": [
    "BATCH_SIZE = 64\n",
    "L1_UNITS = 512\n",
    "\n",
    "graph = tf.Graph()\n",
    "\n",
    "with graph.as_default():\n",
    "    tf_valid_dataset = tf.constant(valid_dataset)\n",
    "    tf_test_dataset = tf.constant(test_dataset)\n",
    "    X_train = tf.placeholder(np.float32, shape=(BATCH_SIZE, image_size**2))\n",
    "    y_train = tf.placeholder(np.float32, shape=(BATCH_SIZE, num_labels))\n",
    "    \n",
    "    weights_l1 = tf.Variable(tf.truncated_normal((image_size**2, L1_UNITS), seed=120))\n",
    "    bias_l1 = tf.Variable(tf.zeros((L1_UNITS)))\n",
    "    \n",
    "    weights_l2 = tf.Variable(tf.truncated_normal((L1_UNITS, num_labels), seed=101))\n",
    "    bias_l2 = tf.Variable(tf.zeros((num_labels)))\n",
    "    \n",
    "    hidden_l1 = tf.matmul(X_train, weights_l1) + bias_l1\n",
    "    activation_l1 = tf.nn.relu(hidden_l1)\n",
    "    \n",
    "    hidden_l2 = tf.matmul(activation_l1, weights_l2) + bias_l2\n",
    "    activation_l2 = tf.nn.softmax(hidden_l2)\n",
    "    \n",
    "    trainable_parameters = tf.trainable_variables()\n",
    "    loss = tf.reduce_mean(tf.nn.softmax_cross_entropy_with_logits(labels=y_train, logits=activation_l2)) + \\\n",
    "                          0.01 * tf.add_n([tf.nn.l2_loss(par) for par in trainable_parameters])\n",
    "    \n",
    "    optimizer = tf.train.AdamOptimizer(0.001).minimize(loss)\n",
    "    \n",
    "    train_prediction = activation_l2\n",
    "    valid_prediction = tf.nn.softmax(tf.matmul(tf.nn.relu(tf.matmul(tf_valid_dataset, weights_l1) + bias_l1), weights_l2) + bias_l2)\n",
    "    test_prediction = tf.nn.softmax(tf.matmul(tf.nn.relu(tf.matmul(tf_test_dataset, weights_l1) + bias_l1), weights_l2) + bias_l2)"
   ]
  },
  {
   "cell_type": "code",
   "execution_count": 11,
   "metadata": {
    "scrolled": true
   },
   "outputs": [
    {
     "name": "stdout",
     "output_type": "stream",
     "text": [
      "Minibatch loss at step 0: 1580.512695\n",
      "Minibatch loss at step 20: 1522.785156\n",
      "Minibatch loss at step 40: 1467.107544\n",
      "Minibatch loss at step 60: 1413.479980\n",
      "Minibatch loss at step 80: 1361.783447\n",
      "Minibatch loss at step 100: 1312.258545\n",
      "Minibatch loss at step 120: 1264.535278\n",
      "Minibatch loss at step 140: 1218.510010\n",
      "Minibatch loss at step 160: 1174.205322\n",
      "Minibatch loss at step 180: 1131.424316\n",
      "Minibatch loss at step 200: 1090.321167\n",
      "Minibatch loss at step 220: 1050.669678\n",
      "Minibatch loss at step 240: 1012.354675\n",
      "Minibatch loss at step 260: 975.574219\n",
      "Minibatch loss at step 280: 939.969299\n",
      "Minibatch loss at step 300: 905.612976\n",
      "Minibatch loss at step 320: 872.639709\n",
      "Minibatch loss at step 340: 840.669556\n",
      "Minibatch loss at step 360: 809.901672\n",
      "Minibatch loss at step 380: 780.251953\n",
      "Minibatch loss at step 400: 751.585815\n",
      "Minibatch loss at step 420: 724.003906\n",
      "Minibatch loss at step 440: 697.375183\n",
      "Minibatch loss at step 460: 671.577454\n",
      "Minibatch loss at step 480: 646.756958\n",
      "Minibatch loss at step 500: 622.898865\n",
      "Minibatch loss at step 520: 599.644287\n",
      "Minibatch loss at step 540: 577.485291\n",
      "Minibatch loss at step 560: 555.836182\n",
      "Minibatch loss at step 580: 535.176636\n",
      "Minibatch loss at step 600: 515.074585\n",
      "Minibatch loss at step 620: 495.721527\n",
      "Minibatch loss at step 640: 477.080139\n",
      "Minibatch loss at step 660: 459.077118\n",
      "Minibatch loss at step 680: 441.641937\n",
      "Minibatch loss at step 700: 424.897003\n",
      "Minibatch loss at step 720: 408.765503\n",
      "Minibatch loss at step 740: 393.116669\n",
      "Minibatch loss at step 760: 378.131897\n",
      "Minibatch loss at step 780: 363.567017\n",
      "Minibatch loss at step 800: 349.568817\n",
      "Minibatch loss at step 820: 336.164093\n",
      "Minibatch loss at step 840: 322.941498\n",
      "Minibatch loss at step 860: 310.491913\n",
      "Minibatch loss at step 880: 298.294556\n",
      "Minibatch loss at step 900: 286.693024\n",
      "Minibatch loss at step 920: 275.409668\n",
      "Minibatch loss at step 940: 264.487701\n",
      "Minibatch loss at step 960: 254.280441\n",
      "Minibatch loss at step 980: 244.072281\n",
      "Minibatch loss at step 1000: 234.252716\n",
      "Minibatch loss at step 1020: 225.100159\n",
      "Minibatch loss at step 1040: 215.950760\n",
      "Minibatch loss at step 1060: 207.126389\n",
      "Minibatch loss at step 1080: 198.910980\n",
      "Minibatch loss at step 1100: 190.813965\n",
      "Minibatch loss at step 1120: 183.032364\n",
      "Minibatch loss at step 1140: 175.480942\n",
      "Minibatch loss at step 1160: 168.294556\n",
      "Minibatch loss at step 1180: 161.425110\n",
      "Minibatch loss at step 1200: 154.787491\n",
      "Minibatch loss at step 1220: 148.226654\n",
      "Minibatch loss at step 1240: 142.217300\n",
      "Minibatch loss at step 1260: 136.174530\n",
      "Minibatch loss at step 1280: 130.455536\n",
      "Minibatch loss at step 1300: 124.960007\n",
      "Minibatch loss at step 1320: 119.667274\n",
      "Minibatch loss at step 1340: 114.767731\n",
      "Minibatch loss at step 1360: 109.685356\n",
      "Minibatch loss at step 1380: 105.017120\n",
      "Minibatch loss at step 1400: 100.569298\n",
      "Minibatch loss at step 1420: 96.082367\n",
      "Minibatch loss at step 1440: 91.870949\n",
      "Minibatch loss at step 1460: 87.880035\n",
      "Minibatch loss at step 1480: 84.020699\n",
      "Minibatch loss at step 1500: 80.261246\n",
      "Minibatch loss at step 1520: 76.745720\n",
      "Minibatch loss at step 1540: 73.285812\n",
      "Minibatch loss at step 1560: 70.092163\n",
      "Minibatch loss at step 1580: 66.875549\n",
      "Minibatch loss at step 1600: 63.872810\n",
      "Minibatch loss at step 1620: 61.091015\n",
      "Minibatch loss at step 1640: 58.210049\n",
      "Minibatch loss at step 1660: 55.619427\n",
      "Minibatch loss at step 1680: 53.017994\n",
      "Minibatch loss at step 1700: 50.592213\n",
      "Minibatch loss at step 1720: 48.256016\n",
      "Minibatch loss at step 1740: 46.039669\n",
      "Minibatch loss at step 1760: 43.911564\n",
      "Minibatch loss at step 1780: 41.885952\n",
      "Minibatch loss at step 1800: 39.900322\n",
      "Minibatch loss at step 1820: 38.009281\n",
      "Minibatch loss at step 1840: 36.269005\n",
      "Minibatch loss at step 1860: 34.494911\n",
      "Minibatch loss at step 1880: 32.798294\n",
      "Minibatch loss at step 1900: 31.216206\n",
      "Minibatch loss at step 1920: 29.698059\n",
      "Minibatch loss at step 1940: 28.384583\n",
      "Minibatch loss at step 1960: 26.906414\n",
      "Minibatch loss at step 1980: 25.614433\n",
      "Minibatch loss at step 2000: 24.444174\n",
      "Test accuracy: 76.1%\n"
     ]
    }
   ],
   "source": [
    "num_steps = 2001\n",
    "\n",
    "train_loss = list()\n",
    "valid_acc = list()\n",
    "train_acc = list()\n",
    "\n",
    "with tf.Session(graph=graph) as sess:\n",
    "    tf.global_variables_initializer().run()\n",
    "    for step in range(num_steps):\n",
    "        offset = (step * BATCH_SIZE) % (small_labels.shape[0] - BATCH_SIZE)\n",
    "        batch_data = small_train[offset:(offset + BATCH_SIZE), :]\n",
    "        batch_labels = small_labels[offset:(offset + BATCH_SIZE), :]\n",
    "        \n",
    "        feed_dict = {X_train: batch_data, y_train: batch_labels}\n",
    "        _,l,pred = sess.run([optimizer, loss, train_prediction], feed_dict=feed_dict)\n",
    "        \n",
    "        if (step % (num_steps//100) == 0):\n",
    "            print(\"Minibatch loss at step %d: %f\" % (step, l))\n",
    "            train_loss.append(l)\n",
    "            valid_acc.append(accuracy(valid_prediction.eval(), valid_labels))\n",
    "            train_acc.append(accuracy(pred, batch_labels))\n",
    "            \n",
    "    print(\"Test accuracy: %.1f%%\" % accuracy(test_prediction.eval(), test_labels))"
   ]
  },
  {
   "cell_type": "code",
   "execution_count": 12,
   "metadata": {},
   "outputs": [
    {
     "data": {
      "image/png": "[encoded data removed]",
      "text/plain": [
       "<Figure size 1080x288 with 2 Axes>"
      ]
     },
     "metadata": {},
     "output_type": "display_data"
    }
   ],
   "source": [
    "performance_chart(train_loss, train_acc, valid_acc)"
   ]
  },
  {
   "cell_type": "markdown",
   "metadata": {
    "colab_type": "text",
    "id": "ww3SCBUdlkRc"
   },
   "source": [
    "---\n",
    "Problem 3\n",
    "---------\n",
    "Introduce Dropout on the hidden layer of the neural network. Remember: Dropout should only be introduced during training, not evaluation, otherwise your evaluation results would be stochastic as well. TensorFlow provides `nn.dropout()` for that, but you have to make sure it's only inserted during training.\n",
    "\n",
    "What happens to our extreme overfitting case?\n",
    "\n",
    "---"
   ]
  },
  {
   "cell_type": "code",
   "execution_count": 16,
   "metadata": {},
   "outputs": [],
   "source": [
    "BATCH_SIZE = 64\n",
    "L1_UNITS = 512\n",
    "DROPOUT_RATE = 0.5\n",
    "\n",
    "graph = tf.Graph()\n",
    "\n",
    "with graph.as_default():\n",
    "    tf_valid_dataset = tf.constant(valid_dataset)\n",
    "    tf_test_dataset = tf.constant(test_dataset)\n",
    "\n",
    "    X_train = tf.placeholder(np.float32, shape=(BATCH_SIZE, image_size**2))\n",
    "    y_train = tf.placeholder(np.float32, shape=(BATCH_SIZE, num_labels))\n",
    "    \n",
    "    weights_l1 = tf.Variable(tf.truncated_normal((image_size**2, L1_UNITS), seed=120))\n",
    "    bias_l1 = tf.Variable(tf.zeros((L1_UNITS)))\n",
    "    \n",
    "    weights_l2 = tf.Variable(tf.truncated_normal((L1_UNITS, num_labels), seed=101))\n",
    "    bias_l2 = tf.Variable(tf.zeros((num_labels)))\n",
    "    \n",
    "    hidden_l1 = tf.matmul(X_train, weights_l1) + bias_l1\n",
    "    dropout_l1 = tf.nn.dropout(hidden_l1, DROPOUT_RATE)\n",
    "    activation_l1 = tf.nn.relu(dropout_l1)\n",
    "    \n",
    "    hidden_l2 = tf.matmul(activation_l1, weights_l2) + bias_l2\n",
    "    activation_l2 = tf.nn.softmax(hidden_l2)\n",
    "    \n",
    "    trainable_parameters = tf.trainable_variables()\n",
    "    loss = tf.reduce_mean(tf.nn.softmax_cross_entropy_with_logits(labels=y_train, logits=activation_l2)) + \\\n",
    "                          0.01 * tf.add_n([tf.nn.l2_loss(par) for par in trainable_parameters])\n",
    "    \n",
    "    optimizer = tf.train.AdamOptimizer(0.001).minimize(loss)\n",
    "    \n",
    "    train_prediction = activation_l2\n",
    "    valid_prediction = tf.nn.softmax(tf.matmul(tf.nn.relu(tf.matmul(tf_valid_dataset, weights_l1) + bias_l1), weights_l2) + bias_l2)\n",
    "    test_prediction = tf.nn.softmax(tf.matmul(tf.nn.relu(tf.matmul(tf_test_dataset, weights_l1) + bias_l1), weights_l2) + bias_l2)"
   ]
  },
  {
   "cell_type": "code",
   "execution_count": 17,
   "metadata": {
    "scrolled": true
   },
   "outputs": [
    {
     "name": "stdout",
     "output_type": "stream",
     "text": [
      "Minibatch loss at step 0: 1580.482910\n",
      "Minibatch loss at step 40: 1467.383179\n",
      "Minibatch loss at step 80: 1362.302979\n",
      "Minibatch loss at step 120: 1265.064575\n",
      "Minibatch loss at step 160: 1174.899414\n",
      "Minibatch loss at step 200: 1091.100098\n",
      "Minibatch loss at step 240: 1013.430603\n",
      "Minibatch loss at step 280: 941.183472\n",
      "Minibatch loss at step 320: 873.863159\n",
      "Minibatch loss at step 360: 811.327332\n",
      "Minibatch loss at step 400: 753.118835\n",
      "Minibatch loss at step 440: 699.003113\n",
      "Minibatch loss at step 480: 648.399841\n",
      "Minibatch loss at step 520: 601.438416\n",
      "Minibatch loss at step 560: 557.662354\n",
      "Minibatch loss at step 600: 516.879822\n",
      "Minibatch loss at step 640: 478.838043\n",
      "Minibatch loss at step 680: 443.494904\n",
      "Minibatch loss at step 720: 410.663727\n",
      "Minibatch loss at step 760: 379.966064\n",
      "Minibatch loss at step 800: 351.425079\n",
      "Minibatch loss at step 840: 324.894104\n",
      "Minibatch loss at step 880: 300.093201\n",
      "Minibatch loss at step 920: 277.246216\n",
      "Minibatch loss at step 960: 255.964493\n",
      "Minibatch loss at step 1000: 235.949081\n",
      "Minibatch loss at step 1040: 217.638382\n",
      "Minibatch loss at step 1080: 200.441574\n",
      "Minibatch loss at step 1120: 184.548828\n",
      "Minibatch loss at step 1160: 169.919144\n",
      "Minibatch loss at step 1200: 156.168732\n",
      "Minibatch loss at step 1240: 143.586914\n",
      "Minibatch loss at step 1280: 131.849884\n",
      "Minibatch loss at step 1320: 121.045547\n",
      "Minibatch loss at step 1360: 110.976440\n",
      "Minibatch loss at step 1400: 101.621567\n",
      "Minibatch loss at step 1440: 92.972458\n",
      "Minibatch loss at step 1480: 85.234856\n",
      "Minibatch loss at step 1520: 77.830406\n",
      "Minibatch loss at step 1560: 71.179153\n",
      "Minibatch loss at step 1600: 64.954895\n",
      "Minibatch loss at step 1640: 59.263573\n",
      "Minibatch loss at step 1680: 53.899075\n",
      "Minibatch loss at step 1720: 49.095066\n",
      "Minibatch loss at step 1760: 44.798531\n",
      "Minibatch loss at step 1800: 40.608082\n",
      "Minibatch loss at step 1840: 36.957386\n",
      "Minibatch loss at step 1880: 33.492264\n",
      "Minibatch loss at step 1920: 30.402018\n",
      "Minibatch loss at step 1960: 27.552090\n",
      "Minibatch loss at step 2000: 24.898788\n",
      "Minibatch loss at step 2040: 22.610701\n",
      "Minibatch loss at step 2080: 20.434786\n",
      "Minibatch loss at step 2120: 18.590151\n",
      "Minibatch loss at step 2160: 16.691570\n",
      "Minibatch loss at step 2200: 15.111315\n",
      "Minibatch loss at step 2240: 13.607544\n",
      "Minibatch loss at step 2280: 12.319369\n",
      "Minibatch loss at step 2320: 11.272494\n",
      "Minibatch loss at step 2360: 10.146948\n",
      "Minibatch loss at step 2400: 9.158798\n",
      "Minibatch loss at step 2440: 8.309870\n",
      "Minibatch loss at step 2480: 7.491786\n",
      "Minibatch loss at step 2520: 6.902239\n",
      "Minibatch loss at step 2560: 6.192400\n",
      "Minibatch loss at step 2600: 5.657183\n",
      "Minibatch loss at step 2640: 5.231770\n",
      "Minibatch loss at step 2680: 4.780063\n",
      "Minibatch loss at step 2720: 4.451251\n",
      "Minibatch loss at step 2760: 4.002896\n",
      "Minibatch loss at step 2800: 3.732872\n",
      "Minibatch loss at step 2840: 3.491821\n",
      "Minibatch loss at step 2880: 3.271127\n",
      "Minibatch loss at step 2920: 3.073766\n",
      "Minibatch loss at step 2960: 2.889554\n",
      "Minibatch loss at step 3000: 2.700685\n",
      "Minibatch loss at step 3040: 2.575292\n",
      "Minibatch loss at step 3080: 2.471653\n",
      "Minibatch loss at step 3120: 2.474292\n",
      "Minibatch loss at step 3160: 2.239010\n",
      "Minibatch loss at step 3200: 2.269503\n",
      "Minibatch loss at step 3240: 2.168739\n",
      "Minibatch loss at step 3280: 2.089012\n",
      "Minibatch loss at step 3320: 2.021471\n",
      "Minibatch loss at step 3360: 1.942004\n",
      "Minibatch loss at step 3400: 1.992024\n",
      "Minibatch loss at step 3440: 1.950098\n",
      "Minibatch loss at step 3480: 1.918096\n",
      "Minibatch loss at step 3520: 1.898891\n",
      "Minibatch loss at step 3560: 1.866604\n",
      "Minibatch loss at step 3600: 1.834360\n",
      "Minibatch loss at step 3640: 1.830309\n",
      "Minibatch loss at step 3680: 1.864255\n",
      "Minibatch loss at step 3720: 1.882478\n",
      "Minibatch loss at step 3760: 1.791664\n",
      "Minibatch loss at step 3800: 1.852775\n",
      "Minibatch loss at step 3840: 1.782403\n",
      "Minibatch loss at step 3880: 1.866742\n",
      "Minibatch loss at step 3920: 1.766297\n",
      "Minibatch loss at step 3960: 1.770926\n",
      "Minibatch loss at step 4000: 1.852481\n",
      "Test accuracy: 86.4%\n"
     ]
    }
   ],
   "source": [
    "num_steps = 4001\n",
    "\n",
    "train_loss = list()\n",
    "valid_acc = list()\n",
    "train_acc = list()\n",
    "\n",
    "with tf.Session(graph=graph) as sess:\n",
    "    tf.global_variables_initializer().run()\n",
    "    for step in range(num_steps):\n",
    "        offset = (step * BATCH_SIZE) % (small_labels.shape[0] - BATCH_SIZE)\n",
    "        batch_data = small_train[offset:(offset + BATCH_SIZE), :]\n",
    "        batch_labels = small_labels[offset:(offset + BATCH_SIZE), :]\n",
    "        \n",
    "        feed_dict = {X_train: batch_data, y_train: batch_labels}\n",
    "        _,l,pred = sess.run([optimizer, loss, train_prediction], feed_dict=feed_dict)\n",
    "        \n",
    "        if (step % (num_steps//100) == 0):\n",
    "            print(\"Minibatch loss at step %d: %f\" % (step, l))\n",
    "            train_loss.append(l)\n",
    "            valid_acc.append(accuracy(valid_prediction.eval(), valid_labels))\n",
    "            train_acc.append(accuracy(pred, batch_labels))\n",
    "            \n",
    "    print(\"Test accuracy: %.1f%%\" % accuracy(test_prediction.eval(), test_labels))"
   ]
  },
  {
   "cell_type": "code",
   "execution_count": 18,
   "metadata": {},
   "outputs": [
    {
     "data": {
      "image/png": "[encoded data removed]",
      "text/plain": [
       "<Figure size 1080x288 with 2 Axes>"
      ]
     },
     "metadata": {},
     "output_type": "display_data"
    }
   ],
   "source": [
    "performance_chart(train_loss, train_acc, valid_acc)"
   ]
  },
  {
   "cell_type": "markdown",
   "metadata": {
    "colab_type": "text",
    "id": "-b1hTz3VWZjw"
   },
   "source": [
    "---\n",
    "Problem 4\n",
    "---------\n",
    "\n",
    "Try to get the best performance you can using a multi-layer model! The best reported test accuracy using a deep network is [97.1%](http://yaroslavvb.blogspot.com/2011/09/notmnist-dataset.html?showComment=1391023266211#c8758720086795711595).\n",
    "\n",
    "One avenue you can explore is to add multiple layers.\n",
    "\n",
    "Another one is to use learning rate decay:\n",
    "\n",
    "    global_step = tf.Variable(0)  # count the number of steps taken.\n",
    "    learning_rate = tf.train.exponential_decay(0.5, global_step, ...)\n",
    "    optimizer = tf.train.GradientDescentOptimizer(learning_rate).minimize(loss, global_step=global_step)\n",
    " \n",
    " ---\n"
   ]
  },
  {
   "cell_type": "code",
   "execution_count": 19,
   "metadata": {},
   "outputs": [],
   "source": [
    "BATCH_SIZE = 64\n",
    "L1_UNITS = 512\n",
    "L2_UNITS = 256\n",
    "L3_UNITS = 64\n",
    "\n",
    "graph = tf.Graph()\n",
    "\n",
    "with graph.as_default():\n",
    "    # set datasets for training and testing\n",
    "    tf_valid_dataset = tf.constant(valid_dataset)\n",
    "    tf_test_dataset = tf.constant(test_dataset)\n",
    "    X_train = tf.placeholder(np.float32, shape=(BATCH_SIZE, image_size**2))\n",
    "    y_train = tf.placeholder(np.float32, shape=(BATCH_SIZE, num_labels))\n",
    "    \n",
    "    # initialize weights and biases\n",
    "    weights_l1 = tf.Variable(tf.truncated_normal((image_size**2, L1_UNITS), seed=120))\n",
    "    bias_l1 = tf.Variable(tf.zeros((L1_UNITS)))\n",
    "    \n",
    "    weights_l2 = tf.Variable(tf.truncated_normal((L1_UNITS, L2_UNITS), seed=101))\n",
    "    bias_l2 = tf.Variable(tf.zeros((L2_UNITS)))\n",
    "    \n",
    "    weights_l3 = tf.Variable(tf.truncated_normal((L2_UNITS, L3_UNITS), seed=101))\n",
    "    bias_l3 = tf.Variable(tf.zeros((L3_UNITS)))\n",
    "    \n",
    "    weights_l4 = tf.Variable(tf.truncated_normal((L3_UNITS, num_labels), seed=101))\n",
    "    bias_l4 = tf.Variable(tf.zeros((num_labels)))\n",
    "    \n",
    "    # configure activations \n",
    "    def nn_layers(input_data):\n",
    "        hidden_l1 = tf.matmul(input_data, weights_l1) + bias_l1\n",
    "        activation_l1 = tf.nn.relu(hidden_l1)\n",
    "\n",
    "        hidden_l2 = tf.matmul(activation_l1, weights_l2) + bias_l2\n",
    "        activation_l2 = tf.nn.relu(hidden_l2)\n",
    "\n",
    "        hidden_l3 = tf.matmul(activation_l2, weights_l3) + bias_l3\n",
    "        activation_l3= tf.nn.relu(hidden_l3)\n",
    "\n",
    "        hidden_l4 = tf.matmul(activation_l3, weights_l4) + bias_l4\n",
    "        activation_l4 = tf.nn.softmax(hidden_l4)\n",
    "        \n",
    "        return activation_l4\n",
    "    \n",
    "    last_activation = nn_layers(X_train)\n",
    "    \n",
    "    # set training parameters\n",
    "    trainable_parameters = tf.trainable_variables()\n",
    "    loss = tf.reduce_mean(tf.nn.softmax_cross_entropy_with_logits(labels=y_train, logits=last_activation)) + \\\n",
    "                          0.01 * tf.add_n([tf.nn.l2_loss(par) for par in trainable_parameters])\n",
    "    \n",
    "    global_step = tf.Variable(0, trainable=False)\n",
    "    learning_rate = tf.train.exponential_decay(0.1, global_step, 50, 0.5)\n",
    "    optimizer = tf.train.AdamOptimizer(learning_rate).minimize(loss, global_step)\n",
    "    \n",
    "    # get prediction for train/valid/test\n",
    "    train_prediction = last_activation\n",
    "    valid_prediction = nn_layers(tf_valid_dataset)\n",
    "    test_prediction = nn_layers(tf_test_dataset)"
   ]
  },
  {
   "cell_type": "code",
   "execution_count": 20,
   "metadata": {
    "scrolled": true
   },
   "outputs": [
    {
     "name": "stdout",
     "output_type": "stream",
     "text": [
      "Minibatch loss at step 0: 2129.319336\n",
      "Minibatch loss at step 10: 260.976990\n",
      "Minibatch loss at step 20: 52.534161\n",
      "Minibatch loss at step 30: 29.277557\n",
      "Minibatch loss at step 40: 14.248386\n",
      "Minibatch loss at step 50: 6.430573\n",
      "Minibatch loss at step 60: 3.491776\n",
      "Minibatch loss at step 70: 2.711032\n",
      "Minibatch loss at step 80: 2.399501\n",
      "Minibatch loss at step 90: 2.365201\n",
      "Minibatch loss at step 100: 2.355343\n",
      "Minibatch loss at step 110: 2.220150\n",
      "Minibatch loss at step 120: 2.239067\n",
      "Minibatch loss at step 130: 2.219061\n",
      "Minibatch loss at step 140: 2.151702\n",
      "Minibatch loss at step 150: 2.169397\n",
      "Minibatch loss at step 160: 2.291189\n",
      "Minibatch loss at step 170: 2.205951\n",
      "Minibatch loss at step 180: 2.181947\n",
      "Minibatch loss at step 190: 2.197952\n",
      "Minibatch loss at step 200: 2.241680\n",
      "Minibatch loss at step 210: 2.219889\n",
      "Minibatch loss at step 220: 2.149308\n",
      "Minibatch loss at step 230: 2.177955\n",
      "Minibatch loss at step 240: 2.233370\n",
      "Minibatch loss at step 250: 2.236349\n",
      "Minibatch loss at step 260: 2.246637\n",
      "Minibatch loss at step 270: 2.231007\n",
      "Minibatch loss at step 280: 2.182214\n",
      "Minibatch loss at step 290: 2.144504\n",
      "Minibatch loss at step 300: 2.109882\n",
      "Minibatch loss at step 310: 2.137753\n",
      "Minibatch loss at step 320: 2.162096\n",
      "Minibatch loss at step 330: 2.247765\n",
      "Minibatch loss at step 340: 2.203521\n",
      "Minibatch loss at step 350: 2.169983\n",
      "Minibatch loss at step 360: 2.262485\n",
      "Minibatch loss at step 370: 2.177948\n",
      "Minibatch loss at step 380: 2.096772\n",
      "Minibatch loss at step 390: 2.176282\n",
      "Minibatch loss at step 400: 2.170020\n",
      "Minibatch loss at step 410: 2.216191\n",
      "Minibatch loss at step 420: 2.244530\n",
      "Minibatch loss at step 430: 2.154888\n",
      "Minibatch loss at step 440: 2.193428\n",
      "Minibatch loss at step 450: 2.184836\n",
      "Minibatch loss at step 460: 2.224809\n",
      "Minibatch loss at step 470: 2.160806\n",
      "Minibatch loss at step 480: 2.231676\n",
      "Minibatch loss at step 490: 2.174954\n",
      "Minibatch loss at step 500: 2.221239\n",
      "Minibatch loss at step 510: 2.198949\n",
      "Minibatch loss at step 520: 2.184653\n",
      "Minibatch loss at step 530: 2.185562\n",
      "Minibatch loss at step 540: 2.130748\n",
      "Minibatch loss at step 550: 2.227457\n",
      "Minibatch loss at step 560: 2.209642\n",
      "Minibatch loss at step 570: 2.169592\n",
      "Minibatch loss at step 580: 2.187950\n",
      "Minibatch loss at step 590: 2.139740\n",
      "Minibatch loss at step 600: 2.203037\n",
      "Minibatch loss at step 610: 2.137539\n",
      "Minibatch loss at step 620: 2.099566\n",
      "Minibatch loss at step 630: 2.178906\n",
      "Minibatch loss at step 640: 2.146530\n",
      "Minibatch loss at step 650: 2.102362\n",
      "Minibatch loss at step 660: 2.215570\n",
      "Minibatch loss at step 670: 2.206916\n",
      "Minibatch loss at step 680: 2.252572\n",
      "Minibatch loss at step 690: 2.178918\n",
      "Minibatch loss at step 700: 2.217028\n",
      "Minibatch loss at step 710: 2.178603\n",
      "Minibatch loss at step 720: 2.288276\n",
      "Minibatch loss at step 730: 2.165592\n",
      "Minibatch loss at step 740: 2.198185\n",
      "Minibatch loss at step 750: 2.202357\n",
      "Minibatch loss at step 760: 2.190537\n",
      "Minibatch loss at step 770: 2.152372\n",
      "Minibatch loss at step 780: 2.093411\n",
      "Minibatch loss at step 790: 2.147223\n",
      "Minibatch loss at step 800: 2.124186\n",
      "Minibatch loss at step 810: 2.186328\n",
      "Minibatch loss at step 820: 2.145118\n",
      "Minibatch loss at step 830: 2.259762\n",
      "Minibatch loss at step 840: 2.192105\n",
      "Minibatch loss at step 850: 2.137704\n",
      "Minibatch loss at step 860: 2.185199\n",
      "Minibatch loss at step 870: 2.205166\n",
      "Minibatch loss at step 880: 2.235213\n",
      "Minibatch loss at step 890: 2.119853\n",
      "Minibatch loss at step 900: 2.160757\n",
      "Minibatch loss at step 910: 2.183764\n",
      "Minibatch loss at step 920: 2.177032\n",
      "Minibatch loss at step 930: 2.191664\n",
      "Minibatch loss at step 940: 2.224552\n",
      "Minibatch loss at step 950: 2.193094\n",
      "Minibatch loss at step 960: 2.189381\n",
      "Minibatch loss at step 970: 2.145827\n",
      "Minibatch loss at step 980: 2.183237\n",
      "Minibatch loss at step 990: 2.177596\n",
      "Minibatch loss at step 1000: 2.179168\n",
      "Test accuracy: 35.2%\n"
     ]
    }
   ],
   "source": [
    "num_steps = 1001\n",
    "\n",
    "train_loss = list()\n",
    "valid_acc = list()\n",
    "train_acc = list()\n",
    "\n",
    "with tf.Session(graph=graph) as sess:\n",
    "    tf.global_variables_initializer().run()\n",
    "    for step in range(num_steps):\n",
    "        offset = (step * BATCH_SIZE) % (train_labels.shape[0] - BATCH_SIZE)\n",
    "        batch_data = train_dataset[offset:(offset + BATCH_SIZE), :]\n",
    "        batch_labels = train_labels[offset:(offset + BATCH_SIZE), :]\n",
    "        \n",
    "        feed_dict = {X_train: batch_data, y_train: batch_labels}\n",
    "        _,l,pred = sess.run([optimizer, loss, train_prediction], feed_dict=feed_dict)\n",
    "        \n",
    "        if (step % (num_steps//100) == 0):\n",
    "            print(\"Minibatch loss at step %d: %f\" % (step, l))\n",
    "            train_loss.append(l)\n",
    "            valid_acc.append(accuracy(valid_prediction.eval(), valid_labels))\n",
    "            train_acc.append(accuracy(pred, batch_labels))\n",
    "            \n",
    "    print(\"Test accuracy: %.1f%%\" % accuracy(test_prediction.eval(), test_labels))"
   ]
  },
  {
   "cell_type": "code",
   "execution_count": 21,
   "metadata": {},
   "outputs": [
    {
     "data": {
      "image/png": "[encoded data removed]",
      "text/plain": [
       "<Figure size 1080x288 with 2 Axes>"
      ]
     },
     "metadata": {},
     "output_type": "display_data"
    }
   ],
   "source": [
    "performance_chart(train_loss, train_acc, valid_acc)"
   ]
  },
  {
   "cell_type": "code",
   "execution_count": null,
   "metadata": {},
   "outputs": [],
   "source": []
  }
 ],
 "metadata": {
  "colab": {
   "default_view": {},
   "name": "3_regularization.ipynb",
   "provenance": [],
   "version": "0.3.2",
   "views": {}
  },
  "kernelspec": {
   "display_name": "Python 3",
   "language": "python",
   "name": "python3"
  },
  "language_info": {
   "codemirror_mode": {
    "name": "ipython",
    "version": 3
   },
   "file_extension": ".py",
   "mimetype": "text/x-python",
   "name": "python",
   "nbconvert_exporter": "python",
   "pygments_lexer": "ipython3",
   "version": "3.6.7"
  }
 },
 "nbformat": 4,
 "nbformat_minor": 1
}
